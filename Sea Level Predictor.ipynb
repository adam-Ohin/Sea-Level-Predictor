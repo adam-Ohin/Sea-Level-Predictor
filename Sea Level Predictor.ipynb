{
 "cells": [
  {
   "cell_type": "code",
   "execution_count": 103,
   "id": "e49b0151",
   "metadata": {},
   "outputs": [],
   "source": [
    "# import neccessary libraries\n",
    "import numpy as np\n",
    "import pandas as pd\n",
    "import matplotlib.pyplot as plt\n",
    "from scipy.stats import linregress\n",
    "%matplotlib inline"
   ]
  },
  {
   "cell_type": "code",
   "execution_count": 104,
   "id": "117fcacf",
   "metadata": {},
   "outputs": [],
   "source": [
    "# read dataset\n",
    "df = pd.read_csv(\"Downloads\\Sea-Level-Predictor-main\\Sea-Level-Predictor-main\\epa-sea-level.csv\")"
   ]
  },
  {
   "cell_type": "code",
   "execution_count": 105,
   "id": "a422d027",
   "metadata": {
    "scrolled": true
   },
   "outputs": [
    {
     "data": {
      "text/html": [
       "<div>\n",
       "<style scoped>\n",
       "    .dataframe tbody tr th:only-of-type {\n",
       "        vertical-align: middle;\n",
       "    }\n",
       "\n",
       "    .dataframe tbody tr th {\n",
       "        vertical-align: top;\n",
       "    }\n",
       "\n",
       "    .dataframe thead th {\n",
       "        text-align: right;\n",
       "    }\n",
       "</style>\n",
       "<table border=\"1\" class=\"dataframe\">\n",
       "  <thead>\n",
       "    <tr style=\"text-align: right;\">\n",
       "      <th></th>\n",
       "      <th>Year</th>\n",
       "      <th>CSIRO Adjusted Sea Level</th>\n",
       "      <th>Lower Error Bound</th>\n",
       "      <th>Upper Error Bound</th>\n",
       "      <th>NOAA Adjusted Sea Level</th>\n",
       "    </tr>\n",
       "  </thead>\n",
       "  <tbody>\n",
       "    <tr>\n",
       "      <th>0</th>\n",
       "      <td>1880</td>\n",
       "      <td>0.000000</td>\n",
       "      <td>-0.952756</td>\n",
       "      <td>0.952756</td>\n",
       "      <td>NaN</td>\n",
       "    </tr>\n",
       "    <tr>\n",
       "      <th>1</th>\n",
       "      <td>1881</td>\n",
       "      <td>0.220472</td>\n",
       "      <td>-0.732283</td>\n",
       "      <td>1.173228</td>\n",
       "      <td>NaN</td>\n",
       "    </tr>\n",
       "    <tr>\n",
       "      <th>2</th>\n",
       "      <td>1882</td>\n",
       "      <td>-0.440945</td>\n",
       "      <td>-1.346457</td>\n",
       "      <td>0.464567</td>\n",
       "      <td>NaN</td>\n",
       "    </tr>\n",
       "    <tr>\n",
       "      <th>3</th>\n",
       "      <td>1883</td>\n",
       "      <td>-0.232283</td>\n",
       "      <td>-1.129921</td>\n",
       "      <td>0.665354</td>\n",
       "      <td>NaN</td>\n",
       "    </tr>\n",
       "    <tr>\n",
       "      <th>4</th>\n",
       "      <td>1884</td>\n",
       "      <td>0.590551</td>\n",
       "      <td>-0.283465</td>\n",
       "      <td>1.464567</td>\n",
       "      <td>NaN</td>\n",
       "    </tr>\n",
       "  </tbody>\n",
       "</table>\n",
       "</div>"
      ],
      "text/plain": [
       "   Year  CSIRO Adjusted Sea Level  Lower Error Bound  Upper Error Bound  \\\n",
       "0  1880                  0.000000          -0.952756           0.952756   \n",
       "1  1881                  0.220472          -0.732283           1.173228   \n",
       "2  1882                 -0.440945          -1.346457           0.464567   \n",
       "3  1883                 -0.232283          -1.129921           0.665354   \n",
       "4  1884                  0.590551          -0.283465           1.464567   \n",
       "\n",
       "   NOAA Adjusted Sea Level  \n",
       "0                      NaN  \n",
       "1                      NaN  \n",
       "2                      NaN  \n",
       "3                      NaN  \n",
       "4                      NaN  "
      ]
     },
     "execution_count": 105,
     "metadata": {},
     "output_type": "execute_result"
    }
   ],
   "source": [
    "df.head()"
   ]
  },
  {
   "cell_type": "code",
   "execution_count": 106,
   "id": "fdfbef47",
   "metadata": {},
   "outputs": [
    {
     "name": "stdout",
     "output_type": "stream",
     "text": [
      "<class 'pandas.core.frame.DataFrame'>\n",
      "RangeIndex: 134 entries, 0 to 133\n",
      "Data columns (total 5 columns):\n",
      " #   Column                    Non-Null Count  Dtype  \n",
      "---  ------                    --------------  -----  \n",
      " 0   Year                      134 non-null    int64  \n",
      " 1   CSIRO Adjusted Sea Level  134 non-null    float64\n",
      " 2   Lower Error Bound         134 non-null    float64\n",
      " 3   Upper Error Bound         134 non-null    float64\n",
      " 4   NOAA Adjusted Sea Level   21 non-null     float64\n",
      "dtypes: float64(4), int64(1)\n",
      "memory usage: 5.4 KB\n"
     ]
    }
   ],
   "source": [
    "df.info()"
   ]
  },
  {
   "cell_type": "code",
   "execution_count": 107,
   "id": "d19a796f",
   "metadata": {
    "scrolled": false
   },
   "outputs": [
    {
     "data": {
      "text/plain": [
       "array([[1880],\n",
       "       [1881],\n",
       "       [1882],\n",
       "       [1883],\n",
       "       [1884],\n",
       "       [1885],\n",
       "       [1886],\n",
       "       [1887],\n",
       "       [1888],\n",
       "       [1889],\n",
       "       [1890],\n",
       "       [1891],\n",
       "       [1892],\n",
       "       [1893],\n",
       "       [1894],\n",
       "       [1895],\n",
       "       [1896],\n",
       "       [1897],\n",
       "       [1898],\n",
       "       [1899],\n",
       "       [1900],\n",
       "       [1901],\n",
       "       [1902],\n",
       "       [1903],\n",
       "       [1904],\n",
       "       [1905],\n",
       "       [1906],\n",
       "       [1907],\n",
       "       [1908],\n",
       "       [1909],\n",
       "       [1910],\n",
       "       [1911],\n",
       "       [1912],\n",
       "       [1913],\n",
       "       [1914],\n",
       "       [1915],\n",
       "       [1916],\n",
       "       [1917],\n",
       "       [1918],\n",
       "       [1919],\n",
       "       [1920],\n",
       "       [1921],\n",
       "       [1922],\n",
       "       [1923],\n",
       "       [1924],\n",
       "       [1925],\n",
       "       [1926],\n",
       "       [1927],\n",
       "       [1928],\n",
       "       [1929],\n",
       "       [1930],\n",
       "       [1931],\n",
       "       [1932],\n",
       "       [1933],\n",
       "       [1934],\n",
       "       [1935],\n",
       "       [1936],\n",
       "       [1937],\n",
       "       [1938],\n",
       "       [1939],\n",
       "       [1940],\n",
       "       [1941],\n",
       "       [1942],\n",
       "       [1943],\n",
       "       [1944],\n",
       "       [1945],\n",
       "       [1946],\n",
       "       [1947],\n",
       "       [1948],\n",
       "       [1949],\n",
       "       [1950],\n",
       "       [1951],\n",
       "       [1952],\n",
       "       [1953],\n",
       "       [1954],\n",
       "       [1955],\n",
       "       [1956],\n",
       "       [1957],\n",
       "       [1958],\n",
       "       [1959],\n",
       "       [1960],\n",
       "       [1961],\n",
       "       [1962],\n",
       "       [1963],\n",
       "       [1964],\n",
       "       [1965],\n",
       "       [1966],\n",
       "       [1967],\n",
       "       [1968],\n",
       "       [1969],\n",
       "       [1970],\n",
       "       [1971],\n",
       "       [1972],\n",
       "       [1973],\n",
       "       [1974],\n",
       "       [1975],\n",
       "       [1976],\n",
       "       [1977],\n",
       "       [1978],\n",
       "       [1979],\n",
       "       [1980],\n",
       "       [1981],\n",
       "       [1982],\n",
       "       [1983],\n",
       "       [1984],\n",
       "       [1985],\n",
       "       [1986],\n",
       "       [1987],\n",
       "       [1988],\n",
       "       [1989],\n",
       "       [1990],\n",
       "       [1991],\n",
       "       [1992],\n",
       "       [1993],\n",
       "       [1994],\n",
       "       [1995],\n",
       "       [1996],\n",
       "       [1997],\n",
       "       [1998],\n",
       "       [1999],\n",
       "       [2000],\n",
       "       [2001],\n",
       "       [2002],\n",
       "       [2003],\n",
       "       [2004],\n",
       "       [2005],\n",
       "       [2006],\n",
       "       [2007],\n",
       "       [2008],\n",
       "       [2009],\n",
       "       [2010],\n",
       "       [2011],\n",
       "       [2012],\n",
       "       [2013]], dtype=int64)"
      ]
     },
     "execution_count": 107,
     "metadata": {},
     "output_type": "execute_result"
    }
   ],
   "source": [
    "# split dataset into independent and dependent variable\n",
    "x = df.iloc[:, :1].values\n",
    "y = df.iloc[:, 1].values\n",
    "x"
   ]
  },
  {
   "cell_type": "code",
   "execution_count": 108,
   "id": "fe25cb10",
   "metadata": {},
   "outputs": [
    {
     "data": {
      "text/plain": [
       "array([ 0.        ,  0.22047244, -0.44094488, -0.23228346,  0.59055118,\n",
       "        0.53149606,  0.43700787,  0.21653543,  0.2992126 ,  0.36220472,\n",
       "        0.44094488,  0.37401575,  0.5       ,  0.68503937,  0.30314961,\n",
       "        0.76771654,  0.46850394,  0.67322835,  1.04330709,  1.33858268,\n",
       "        1.12598425,  1.11023622,  1.29133858,  1.60629921,  1.2007874 ,\n",
       "        0.98425197,  1.2519685 ,  1.19685039,  1.0984252 ,  1.27559055,\n",
       "        1.27165354,  1.59842519,  1.47637795,  1.54724409,  1.79527559,\n",
       "        2.10629921,  2.03149606,  1.85433071,  1.79133858,  1.85433071,\n",
       "        1.90551181,  1.98818897,  1.9527559 ,  2.        ,  1.71259842,\n",
       "        1.79133858,  2.04724409,  2.00393701,  1.8503937 ,  1.90551181,\n",
       "        2.06299212,  2.04724409,  2.27165354,  2.44094488,  2.22834645,\n",
       "        2.4488189 ,  2.29527559,  2.51968504,  2.62204724,  2.82677165,\n",
       "        2.61811023,  3.09842519,  3.09842519,  3.09842519,  2.84645669,\n",
       "        2.95669291,  3.2519685 ,  3.37401574,  3.56299212,  3.51181102,\n",
       "        3.59842519,  3.97244094,  3.87007874,  4.04330708,  3.92913385,\n",
       "        3.96456693,  3.76377952,  4.29133858,  4.34645669,  4.35826771,\n",
       "        4.503937  ,  4.74803149,  4.54330708,  4.48031496,  4.16929133,\n",
       "        4.61023622,  4.39763779,  4.4527559 ,  4.48425196,  4.7519685 ,\n",
       "        4.67716535,  4.88188976,  5.24015748,  5.003937  ,  5.47244094,\n",
       "        5.40944881,  5.37007873,  5.3031496 ,  5.55511811,  5.36220472,\n",
       "        5.59842519,  6.08661417,  5.85826771,  6.18897637,  6.1535433 ,\n",
       "        5.74803149,  5.77165354,  5.79527558,  5.98031495,  6.15748031,\n",
       "        6.23228346,  6.33464566,  6.35826771,  6.29133858,  6.49999999,\n",
       "        6.61811023,  6.78740157,  7.06692913,  6.66535432,  7.01181102,\n",
       "        7.06299212,  7.28740157,  7.38188976,  7.75984251,  7.74015747,\n",
       "        7.74409448,  7.91732283,  7.99606298,  8.35039369,  8.58661416,\n",
       "        8.90157479,  8.96456692,  9.32677164,  8.98031495])"
      ]
     },
     "execution_count": 108,
     "metadata": {},
     "output_type": "execute_result"
    }
   ],
   "source": [
    "y"
   ]
  },
  {
   "cell_type": "code",
   "execution_count": 117,
   "id": "8b704407",
   "metadata": {},
   "outputs": [],
   "source": [
    "def draw_plot():\n",
    "\n",
    "    # Create a scatter plot\n",
    "    x = df['Year']\n",
    "    y = df['CSIRO Adjusted Sea Level']\n",
    "\n",
    "    fig, ax = plt.subplots()\n",
    "    plt.scatter(x, y)\n",
    "\n",
    "    # Create first line of best fit\n",
    "    regress = linregress(x, y)\n",
    "    x_predict = pd.Series([i for i in range(1880, 2051)])\n",
    "    y_predict = regress.slope * x_predict + regress.intercept\n",
    "\n",
    "    plt.plot(x_predict, y_predict, 'blue')  # plot best fit\n",
    "\n",
    "    # Create second line of best fit\n",
    "    df1 = df.loc[df['Year'] >= 2000]\n",
    "    x2 = df1['Year']\n",
    "    y2 = df1['CSIRO Adjusted Sea Level']\n",
    "\n",
    "    regress2 = linregress(x2, y2)\n",
    "    x2_predict = pd.Series([i for i in range(2000, 2051)])\n",
    "    y2_predict = regress2.slope * x2_predict + regress2.intercept\n",
    "    \n",
    "    plt.plot(x2_predict, y2_predict, 'red')  # plot best fit\n",
    "\n",
    "    ax.set_xlabel('Year')\n",
    "    ax.set_ylabel(\"Sea Level (inches)\")\n",
    "    ax.set_title('Rise in Sea Level')\n",
    "    \n",
    "    # Save plot and return\n",
    "    plt.savefig('sea_level_plot.png')\n",
    "    return plt.gca()"
   ]
  },
  {
   "cell_type": "code",
   "execution_count": 118,
   "id": "53e5a1fe",
   "metadata": {},
   "outputs": [
    {
     "data": {
      "text/plain": [
       "<AxesSubplot:title={'center':'Rise in Sea Level'}, xlabel='Year', ylabel='Sea Level (inches)'>"
      ]
     },
     "execution_count": 118,
     "metadata": {},
     "output_type": "execute_result"
    },
    {
     "data": {
      "image/png": "[encoded data removed]",
      "text/plain": [
       "<Figure size 432x288 with 1 Axes>"
      ]
     },
     "metadata": {
      "needs_background": "light"
     },
     "output_type": "display_data"
    }
   ],
   "source": [
    "# call the created function \n",
    "draw_plot()"
   ]
  },
  {
   "cell_type": "code",
   "execution_count": null,
   "id": "41d151b6",
   "metadata": {},
   "outputs": [],
   "source": []
  }
 ],
 "metadata": {
  "kernelspec": {
   "display_name": "Python 3 (ipykernel)",
   "language": "python",
   "name": "python3"
  },
  "language_info": {
   "codemirror_mode": {
    "name": "ipython",
    "version": 3
   },
   "file_extension": ".py",
   "mimetype": "text/x-python",
   "name": "python",
   "nbconvert_exporter": "python",
   "pygments_lexer": "ipython3",
   "version": "3.9.12"
  }
 },
 "nbformat": 4,
 "nbformat_minor": 5
}
